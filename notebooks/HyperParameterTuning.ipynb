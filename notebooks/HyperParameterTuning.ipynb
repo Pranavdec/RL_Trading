{
 "cells": [
  {
   "cell_type": "markdown",
   "metadata": {},
   "source": [
    "## Imports"
   ]
  },
  {
   "cell_type": "code",
   "execution_count": null,
   "metadata": {},
   "outputs": [],
   "source": [
    "import numpy as np\n",
    "import pandas as pd\n",
    "import matplotlib.pyplot as plt\n",
    "import sys\n",
    "sys.path.append('../') \n",
    "\n",
    "import gymnasium as gym\n",
    "from src.trading_env_final import TradingEnv\n",
    "\n",
    "from stable_baselines3 import PPO, A2C\n",
    "from stable_baselines3.common.env_checker import check_env\n",
    "from stable_baselines3.common.vec_env import DummyVecEnv\n",
    "import optuna"
   ]
  },
  {
   "cell_type": "markdown",
   "metadata": {},
   "source": [
    "## Create Env"
   ]
  },
  {
   "cell_type": "code",
   "execution_count": null,
   "metadata": {},
   "outputs": [],
   "source": [
    "df = pd.read_csv(\"../data/PNB_Indicators.csv\")\n",
    "df_option_data = pd.read_csv(\"../data/PNB_Options_Data.csv\")\n",
    "\n",
    "options_path = \"../data/CSV\" # has date realted to options on each day\n",
    "\n",
    "window_size = 10\n",
    "start_index = 748 # 2015-01-01\n",
    "end_index = 2723 # 2022-12-30\n",
    "frame_bound = (start_index, end_index)\n",
    "margin = 1000000000\n",
    "lot_size = 1000\n",
    "spread = 5 # no.of stikes from atm to consider as itm and otm\n",
    "\n",
    "env = TradingEnv(df, df_option_data, window_size, frame_bound, margin, lot_size, spread, options_path)"
   ]
  },
  {
   "cell_type": "code",
   "execution_count": null,
   "metadata": {},
   "outputs": [],
   "source": [
    "options_path1 = \"../data/CSV\" \n",
    "frame_bound=(2726, 3040)\n",
    "speread = 5\n",
    "new_env = TradingEnv(df, df_option_data, window_size, frame_bound, margin, lot_size, spread, options_path)\n",
    "new_env = DummyVecEnv([lambda: new_env])"
   ]
  },
  {
   "cell_type": "code",
   "execution_count": null,
   "metadata": {},
   "outputs": [],
   "source": [
    "t,t1 = env.reset()"
   ]
  },
  {
   "cell_type": "code",
   "execution_count": null,
   "metadata": {},
   "outputs": [],
   "source": [
    "check_env(env)\n",
    "t,t1 = env.reset()"
   ]
  },
  {
   "cell_type": "markdown",
   "metadata": {},
   "source": [
    "## HyperParameter Tuning"
   ]
  },
  {
   "cell_type": "code",
   "execution_count": null,
   "metadata": {},
   "outputs": [],
   "source": [
    "def objective(trial):\n",
    "    # Define the hyperparameters to tune\n",
    "    learning_rate = trial.suggest_float('learning_rate', 1e-5, 1e-2, log=True)\n",
    "    gamma = trial.suggest_float('gamma', 0.9, 0.999)\n",
    "    gae_lambda = trial.suggest_float ('gae_lambda', 0.8, 1.0)\n",
    "    n_steps = trial.suggest_int('n_steps', 5, 20)\n",
    "    entropy_coef = trial.suggest_float('entropy_coef', 0.01, 0.1)\n",
    "    \n",
    "    # Create the environment and model with these hyperparameters\n",
    "    model = A2C(\"MlpPolicy\", env, verbose=0,\n",
    "                learning_rate=learning_rate,\n",
    "                gamma=gamma,\n",
    "                gae_lambda=gae_lambda,\n",
    "                n_steps=n_steps,\n",
    "                ent_coef=entropy_coef)\n",
    "                \n",
    "    # Train the model\n",
    "    model.learn(total_timesteps=50000)\n",
    "    \n",
    "    # Evaluate the model\n",
    "    obs = new_env.reset()\n",
    "    done = False\n",
    "    total_profit = 0\n",
    "    while not done:\n",
    "        action, _states = model.predict(obs)\n",
    "        obs, rewards, done, info = new_env.step(action)\n",
    "\n",
    "    total_profit = info[0]['total_profit']      \n",
    "    return -total_profit  # Since Optuna minimizes"
   ]
  },
  {
   "cell_type": "code",
   "execution_count": null,
   "metadata": {},
   "outputs": [],
   "source": [
    "# Set up SQLite storage and specify the study name.\n",
    "storage_url = \"sqlite:///history.db\"\n",
    "study_name = \"study_a2c\"  # Give a unique name to your study.\n",
    "\n",
    "# Create or load the study\n",
    "study = optuna.create_study(study_name=study_name, storage=storage_url, load_if_exists=True, direction=\"minimize\")"
   ]
  },
  {
   "cell_type": "code",
   "execution_count": null,
   "metadata": {},
   "outputs": [],
   "source": [
    "def early_stopping_callback(study, trial, threshold_no_improvement, min_trials):\n",
    "    print(\"Inside early stopping callback\")\n",
    "    \n",
    "    # Stop the study if there is no improvement over a certain number of trials\n",
    "    if len(study.trials) < min_trials:\n",
    "        return\n",
    "    best_value = study.best_value\n",
    "    current_value = trial.value\n",
    "    if current_value > best_value:\n",
    "        no_improvement_count = study.user_attrs.get('no_improvement_count', 0) + 1\n",
    "        study.set_user_attr('no_improvement_count', no_improvement_count)\n",
    "    else:\n",
    "        study.set_user_attr('no_improvement_count', 0)\n",
    "\n",
    "    if study.user_attrs.get('no_improvement_count', 0) >= threshold_no_improvement:\n",
    "        study.stop()\n",
    "\n",
    "# Configure the number of trials without improvement after which to stop\n",
    "threshold_no_improvement = 10  # Number of trials without improvement\n",
    "min_trials = 10  # Minimum number of trials before considering stopping"
   ]
  },
  {
   "cell_type": "code",
   "execution_count": null,
   "metadata": {},
   "outputs": [],
   "source": [
    "study.optimize(objective, n_trials=100, callbacks=[lambda study, trial: early_stopping_callback(study, trial, threshold_no_improvement, min_trials)])\n",
    "\n",
    "print(\"Study finished with best value:\", study.best_value)"
   ]
  },
  {
   "cell_type": "code",
   "execution_count": null,
   "metadata": {},
   "outputs": [],
   "source": [
    "# Best trial\n",
    "print(\"Best trial:\")\n",
    "trial = study.best_trial\n",
    "print(\" Value: \", trial.value)\n",
    "print(\" Params: \")\n",
    "for key, value in trial.params.items():\n",
    "    print(f\"{key}: {value}\")\n"
   ]
  }
 ],
 "metadata": {
  "kernelspec": {
   "display_name": "rl_t",
   "language": "python",
   "name": "python3"
  },
  "language_info": {
   "codemirror_mode": {
    "name": "ipython",
    "version": 3
   },
   "file_extension": ".py",
   "mimetype": "text/x-python",
   "name": "python",
   "nbconvert_exporter": "python",
   "pygments_lexer": "ipython3",
   "version": "3.12.3"
  }
 },
 "nbformat": 4,
 "nbformat_minor": 2
}

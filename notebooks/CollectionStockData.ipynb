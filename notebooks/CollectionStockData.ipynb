{
 "cells": [
  {
   "cell_type": "code",
   "execution_count": null,
   "metadata": {},
   "outputs": [],
   "source": [
    "from SmartApi import SmartConnect\n",
    "from logzero import logger\n",
    "import json\n",
    "import http.client\n",
    "from nsepython import *\n",
    "import pandas as pd\n",
    "import time"
   ]
  },
  {
   "cell_type": "markdown",
   "metadata": {},
   "source": [
    "## Data Collection"
   ]
  },
  {
   "cell_type": "code",
   "execution_count": null,
   "metadata": {},
   "outputs": [],
   "source": [
    "# This script used angle one smart api to colelct stock data any other way of data collection can be done\n",
    "\n",
    "api_key = \"abcd\"\n",
    "username = \"abcd\"\n",
    "pwd = \"abcd\"\n",
    "totp = \"\"\n",
    "refreh_token = ''\n",
    "\n",
    "jwt_token = ''\n",
    "\n",
    "feedToken = ''\n"
   ]
  },
  {
   "cell_type": "markdown",
   "metadata": {},
   "source": [
    "### Generation of Refresh Token and Access Token"
   ]
  },
  {
   "cell_type": "code",
   "execution_count": null,
   "metadata": {},
   "outputs": [],
   "source": [
    "# smartApi = SmartConnect(api_key)\n",
    "# try:\n",
    "#     token = \"\"\n",
    "#     totp = pyotp.TOTP(token).now()\n",
    "# except Exception as e:\n",
    "#     raise e\n",
    "\n",
    "# correlation_id = \"abcde\"\n",
    "# data = smartApi.generateSession(username, pwd, totp)\n",
    "# data"
   ]
  },
  {
   "cell_type": "code",
   "execution_count": null,
   "metadata": {},
   "outputs": [],
   "source": [
    "# # #generate referesh token\n",
    "# conn = http.client.HTTPSConnection(\n",
    "#     \"apiconnect.angelbroking.com\"\n",
    "#     )\n",
    "# payload = {\n",
    "#     \"refreshToken\" : refreh_token\n",
    "# }\n",
    "# headers = {\n",
    "#     'Authorization': jwt_token,\n",
    "#     'Content-Type': 'application/json',\n",
    "#     'Accept': 'application/json',\n",
    "#     'X-UserType': 'USER',\n",
    "#     'X-SourceID': 'WEB',\n",
    "#     'X-ClientLocalIP': 'CLIENT_LOCAL_IP',\n",
    "#     'X-ClientPublicIP': 'CLIENT_PUBLIC_IP',\n",
    "#     'X-MACAddress': 'MAC_ADDRESS',\n",
    "#     'X-PrivateKey': api_key\n",
    "#   }\n",
    "# conn.request(\"POST\", \"/rest/auth/angelbroking/jwt/v1/generateTokens\" ,json.dumps(payload),headers)\n",
    "\n",
    "# res = conn.getresponse()\n",
    "# data = res.read()\n",
    "# print(data.decode(\"utf-8\"))"
   ]
  },
  {
   "cell_type": "markdown",
   "metadata": {},
   "source": [
    "### Requesting Data from the API"
   ]
  },
  {
   "cell_type": "code",
   "execution_count": null,
   "metadata": {},
   "outputs": [],
   "source": [
    "df_pnb = pd.DataFrame(columns = [\"Date&Time\",\"Open\",\"High\",\"Low\",\"Close\",\"Volume\"])"
   ]
  },
  {
   "cell_type": "code",
   "execution_count": null,
   "metadata": {},
   "outputs": [],
   "source": [
    "def get_data(start_date, end_date):\n",
    "    start_date = start_date.strftime('%Y-%m-%d %H:%M')\n",
    "    end_date = end_date.strftime('%Y-%m-%d %H:%M')\n",
    "    print(start_date,end_date)\n",
    "    conn = http.client.HTTPSConnection(\"apiconnect.angelbroking.com\")\n",
    "    payload = {\n",
    "    \"exchange\": \"NSE\",\n",
    "    \"symboltoken\": \"9808\",\n",
    "    \"interval\": \"ONE_DAY\",\n",
    "    \"fromdate\": start_date,\n",
    "    \"todate\": end_date\n",
    "    }\n",
    "    headers = {\n",
    "    'X-PrivateKey': api_key,\n",
    "    'Accept': 'application/json',\n",
    "    'X-SourceID': 'WEB',\n",
    "    'X-ClientLocalIP': 'CLIENT_LOCAL_IP',\n",
    "    'X-ClientPublicIP': 'CLIENT_PUBLIC_IP',\n",
    "    'X-MACAddress': 'MAC_ADDRESS',\n",
    "    'X-UserType': 'USER',\n",
    "    'Authorization': jwt_token,\n",
    "    'Accept': 'application/json',\n",
    "    'X-SourceID': 'WEB',\n",
    "    'Content-Type': 'application/json'\n",
    "    }\n",
    "    conn.request(\"POST\", \"/rest/secure/angelbroking/historical/v1/getCandleData\", json.dumps(payload), headers)\n",
    "    res = conn.getresponse()\n",
    "    data = json.loads(res.read())\n",
    "    return data['data']"
   ]
  },
  {
   "cell_type": "code",
   "execution_count": null,
   "metadata": {},
   "outputs": [],
   "source": [
    "base_date = \"2012-01-01\"\n",
    "\n",
    "# Loop to fetch data every 12 months from 2012 to 2024\n",
    "for i in range(13):\n",
    "    start_date = pd.to_datetime(base_date) + pd.DateOffset(months=(i*12))\n",
    "    end_date = start_date + pd.DateOffset(months=12)\n",
    "    data = get_data(start_date, end_date)\n",
    "    df_temp = pd.DataFrame(data, columns=[\"Date&Time\", \"Open\", \"High\", \"Low\", \"Close\", \"Volume\"])\n",
    "    df_pnb = pd.concat([df_pnb, df_temp], ignore_index=True)\n",
    "    time.sleep(1)"
   ]
  },
  {
   "cell_type": "code",
   "execution_count": null,
   "metadata": {},
   "outputs": [],
   "source": [
    "df_pnb['Date&Time'] = pd.to_datetime(df_pnb['Date&Time'])\n",
    "df_pnb['Date&Time'] = df_pnb['Date&Time'].dt.date"
   ]
  },
  {
   "cell_type": "code",
   "execution_count": null,
   "metadata": {},
   "outputs": [],
   "source": [
    "df_pnb.to_csv(\"../data/PNB.csv\", index=False)"
   ]
  }
 ],
 "metadata": {
  "kernelspec": {
   "display_name": "test",
   "language": "python",
   "name": "python3"
  },
  "language_info": {
   "codemirror_mode": {
    "name": "ipython",
    "version": 3
   },
   "file_extension": ".py",
   "mimetype": "text/x-python",
   "name": "python",
   "nbconvert_exporter": "python",
   "pygments_lexer": "ipython3",
   "version": "3.9.19"
  }
 },
 "nbformat": 4,
 "nbformat_minor": 2
}

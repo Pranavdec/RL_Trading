{
 "cells": [
  {
   "cell_type": "code",
   "execution_count": 2,
   "metadata": {},
   "outputs": [],
   "source": [
    "import pandas as pd\n",
    "import numpy as np\n",
    "from datetime import datetime\n",
    "import os\n",
    "import glob\n",
    "from scipy.stats import norm\n",
    "from scipy.optimize import brentq"
   ]
  },
  {
   "cell_type": "markdown",
   "metadata": {},
   "source": [
    "## Techinal Indicators"
   ]
  },
  {
   "cell_type": "code",
   "execution_count": 2,
   "metadata": {},
   "outputs": [],
   "source": [
    "df = pd.read_csv('../data/PNB.csv')"
   ]
  },
  {
   "cell_type": "code",
   "execution_count": 3,
   "metadata": {},
   "outputs": [],
   "source": [
    "df['Date&Time'] = pd.to_datetime(df['Date&Time'])\n",
    "df.set_index('Date&Time', inplace=True)"
   ]
  },
  {
   "cell_type": "code",
   "execution_count": 4,
   "metadata": {},
   "outputs": [],
   "source": [
    "# 52 Week High and Low\n",
    "df['52_Week_High'] = df['High'].rolling(window=260, min_periods=1).max()\n",
    "df['52_Week_Low'] = df['Low'].rolling(window=260, min_periods=1).min()"
   ]
  },
  {
   "cell_type": "code",
   "execution_count": 5,
   "metadata": {},
   "outputs": [],
   "source": [
    "def calculate_rsi(data, window=14):\n",
    "    \"\"\"\n",
    "    Calculate Relative Strength Index(RSI) for given data.\n",
    "    Args:\n",
    "        data (pandas Series):  Close price of the stock\n",
    "        window (int, optional): How many Days Back to Look. Defaults to 14.\n",
    "\n",
    "    Returns:\n",
    "        pandas Series: RSI value for each day\n",
    "    \"\"\"\n",
    "    delta = data.diff()\n",
    "    gain = delta.clip(lower=0).rolling(window=window).mean()\n",
    "    loss = (-delta).clip(lower=0).rolling(window=window).mean()\n",
    "\n",
    "    rs = gain / loss\n",
    "    rsi = 100 - (100 / (1 + rs))\n",
    "    return rsi\n",
    "\n",
    "df['RSI'] = calculate_rsi(df['Close'])"
   ]
  },
  {
   "cell_type": "code",
   "execution_count": 6,
   "metadata": {},
   "outputs": [],
   "source": [
    "def calculate_macd(data, slow=26, fast=12, signal=9):\n",
    "    \"\"\"\n",
    "    Calculate Moving Average Convergence Divergence (MACD) for given data.\n",
    "    Args:\n",
    "        data (pandas Series): Close price of the stock\n",
    "        slow (int, optional): Period for the slow EMA. Defaults to 26.\n",
    "        fast (int, optional): Period for the fast EMA. Defaults to 12.\n",
    "        signal (int, optional): Period for the signal line. Defaults to 9.\n",
    "\n",
    "    Returns:\n",
    "        pandas Series: MACD value for each day\n",
    "        pandas Series: Signal value for each day\n",
    "    \"\"\"\n",
    "    exp1 = data.ewm(span=fast, adjust=False).mean()\n",
    "    exp2 = data.ewm(span=slow, adjust=False).mean()\n",
    "    macd = exp1 - exp2\n",
    "    macd_signal = macd.ewm(span=signal, adjust=False).mean()\n",
    "    return macd, macd_signal\n",
    "\n",
    "df['MACD'], df['Signal'] = calculate_macd(df['Close'])"
   ]
  },
  {
   "cell_type": "code",
   "execution_count": 7,
   "metadata": {},
   "outputs": [],
   "source": [
    "def calculate_bollinger_bands(data, window=20, num_std=2):\n",
    "    \"\"\"\n",
    "    Calculate Bollinger Bands for given data.\n",
    "    Args:\n",
    "        data (pandas Series): Close price of the stock or any numerical data\n",
    "        window (int, optional): Number of periods to calculate the SMA and standard deviation. Defaults to 20.\n",
    "        num_std (int, optional): Number of standard deviations to use for the width of the bands. Defaults to 2.\n",
    "\n",
    "    Returns:\n",
    "        pandas Series: Upper Bollinger Band for each day\n",
    "        pandas Series: Lower Bollinger Band for each day\n",
    "    \"\"\"\n",
    "    sma = data.rolling(window=window).mean()  # Simple Moving Average\n",
    "    rstd = data.rolling(window=window).std()  # Rolling Standard Deviation\n",
    "    upper_band = sma + (rstd * num_std)  # Upper Bollinger Band\n",
    "    lower_band = sma - (rstd * num_std)  # Lower Bollinger Band\n",
    "\n",
    "    return upper_band, lower_band\n",
    "\n",
    "\n",
    "df['BB_Upper'], df['BB_Lower'] = calculate_bollinger_bands(df['Close'])"
   ]
  },
  {
   "cell_type": "code",
   "execution_count": 8,
   "metadata": {},
   "outputs": [],
   "source": [
    "def calculate_historical_volatility(data, window=30):\n",
    "    \"\"\"\n",
    "    Calculate historical volatility of given data.\n",
    "    Args:\n",
    "        data (pandas Series): Prices of the stock or any financial instrument.\n",
    "        window (int, optional): The number of periods to use for calculating the rolling standard deviation. Defaults to 30.\n",
    "\n",
    "    Returns:\n",
    "        pandas Series: Historical volatility for each day, annualized.\n",
    "    \"\"\"\n",
    "    log_returns = np.log(data / data.shift(1))  # Calculate log returns\n",
    "    volatility = log_returns.rolling(window=window).std() * np.sqrt(252)  # Annualize the standard deviation\n",
    "\n",
    "    return volatility\n",
    "\n",
    "df['Volatility'] = calculate_historical_volatility(df['Close'])\n"
   ]
  },
  {
   "cell_type": "code",
   "execution_count": 9,
   "metadata": {},
   "outputs": [],
   "source": [
    "def calculate_stochastic_oscillator(data, k_window=14, d_window=3):\n",
    "    \"\"\"\n",
    "    Calculate the Stochastic Oscillator for given stock price data.\n",
    "    Args:\n",
    "        data (pandas DataFrame): DataFrame containing 'Low', 'High', and 'Close' columns.\n",
    "        k_window (int, optional): Number of periods for %K line. Defaults to 14.\n",
    "        d_window (int, optional): Number of periods for %D line (moving average of %K). Defaults to 3.\n",
    "\n",
    "    Returns:\n",
    "        pandas Series: %K values.\n",
    "        pandas Series: %D values (smoothed %K).\n",
    "    \"\"\"\n",
    "    low_min = data['Low'].rolling(window=k_window).min()\n",
    "    high_max = data['High'].rolling(window=k_window).max()\n",
    "    k = 100 * ((data['Close'] - low_min) / (high_max - low_min))\n",
    "    d = k.rolling(window=d_window).mean()\n",
    "    return k, d\n",
    "\n",
    "df['%K'], df['%D'] = calculate_stochastic_oscillator(df)\n"
   ]
  },
  {
   "cell_type": "code",
   "execution_count": 10,
   "metadata": {},
   "outputs": [],
   "source": [
    "def calculate_obv(data):\n",
    "    \"\"\"\n",
    "    Calculate On-Balance Volume (OBV) for given stock price data.\n",
    "    Args:\n",
    "        data (pandas DataFrame): DataFrame containing 'Close' and 'Volume' columns.\n",
    "\n",
    "    Returns:\n",
    "        pandas Series: OBV values, indexed the same as the input data.\n",
    "    \"\"\"\n",
    "    obv = [0]\n",
    "    for i in range(1, len(data)):\n",
    "        if data['Close'].iloc[i] > data['Close'].iloc[i-1]:\n",
    "            obv.append(obv[-1] + data['Volume'].iloc[i])\n",
    "        elif data['Close'].iloc[i] < data['Close'].iloc[i-1]:\n",
    "            obv.append(obv[-1] - data['Volume'].iloc[i])\n",
    "        else:\n",
    "            obv.append(obv[-1])\n",
    "    return pd.Series(obv, index=data.index)\n",
    "\n",
    "df['OBV'] = calculate_obv(df)"
   ]
  },
  {
   "cell_type": "code",
   "execution_count": 11,
   "metadata": {},
   "outputs": [],
   "source": [
    "def calculate_oscillators(data, fast=12, slow=26, signal=9):\n",
    "    \"\"\"\n",
    "    Calculate Absolute Price Oscillator (APO) and Percentage Price Oscillator (PPO) for given data.\n",
    "    \n",
    "    Args:\n",
    "        data (pandas Series): Close prices of the stock or any financial instrument.\n",
    "        fast (int, optional): Span for the faster EMA in periods. Defaults to 12.\n",
    "        slow (int, optional): Span for the slower EMA in periods. Defaults to 26.\n",
    "        signal (int, optional): Span for the signal line of the PPO in periods. Defaults to 9.\n",
    "\n",
    "    Returns:\n",
    "        pandas Series: APO values.\n",
    "        pandas Series: PPO values.\n",
    "        pandas Series: Signal line for the PPO.\n",
    "    \"\"\"\n",
    "    # Calculate Absolute Price Oscillator (APO)\n",
    "    apo = data.ewm(span=fast, adjust=False).mean() - data.ewm(span=slow, adjust=False).mean()\n",
    "\n",
    "    # Calculate Percentage Price Oscillator (PPO)\n",
    "    ppo = (apo / data.ewm(span=slow, adjust=False).mean()) * 100\n",
    "    ppo_signal = ppo.ewm(span=signal, adjust=False).mean()\n",
    "\n",
    "    return apo, ppo, ppo_signal\n",
    "\n",
    "df['APO'], df['PPO'], df['PPO_Signal'] = calculate_oscillators(df['Close'])"
   ]
  },
  {
   "cell_type": "code",
   "execution_count": 12,
   "metadata": {},
   "outputs": [],
   "source": [
    "def calculate_moving_averages(data, window=20):\n",
    "    \"\"\"\n",
    "    Calculate Simple Moving Average (SMA) and Exponential Moving Average (EMA) for given data.\n",
    "\n",
    "    Args:\n",
    "        data (pandas Series): Prices of the stock or any financial instrument.\n",
    "        window (int, optional): Number of periods over which to calculate the averages. Defaults to 20.\n",
    "\n",
    "    Returns:\n",
    "        pandas Series: SMA values.\n",
    "        pandas Series: EMA values.\n",
    "    \"\"\"\n",
    "    # Simple Moving Average (SMA)\n",
    "    sma = data.rolling(window=window).mean()\n",
    "    \n",
    "    # Exponential Moving Average (EMA)\n",
    "    ema = data.ewm(span=window, adjust=False).mean()\n",
    "\n",
    "    return sma, ema\n",
    "\n",
    "df['SMA'], df['EMA'] = calculate_moving_averages(df['Close'])"
   ]
  },
  {
   "cell_type": "code",
   "execution_count": 13,
   "metadata": {},
   "outputs": [],
   "source": [
    "df.to_csv('../data/PNB_Indicators.csv')"
   ]
  },
  {
   "cell_type": "markdown",
   "metadata": {},
   "source": [
    "## Greeks"
   ]
  },
  {
   "cell_type": "code",
   "execution_count": 14,
   "metadata": {},
   "outputs": [],
   "source": [
    "def black_scholes_call(S, K, T, r, sigma):\n",
    "    \"\"\"\n",
    "    Price a European call option using the Black-Scholes model.\n",
    "    \n",
    "    Args:\n",
    "        S (float): Stock price.\n",
    "        K (float): Strike price.\n",
    "        T (float): Time to maturity.\n",
    "        r (float): Risk-free rate.\n",
    "        sigma (float): Volatility.\n",
    "\n",
    "    Returns:\n",
    "        float: Price of the European call option.\n",
    "    \"\"\"\n",
    "    \n",
    "    d1 = (np.log(S / K) + (r + 0.5 * sigma ** 2) * T) / (sigma * np.sqrt(T))\n",
    "    d2 = d1 - sigma * np.sqrt(T)\n",
    "    return S * norm.cdf(d1) - K * np.exp(-r * T) * norm.cdf(d2)\n",
    "\n",
    "def implied_volatility(S, K, T, r, market_price):\n",
    "    \"\"\"\n",
    "    Calculate the implied volatility given a market price of a call option.\n",
    "    \n",
    "    Args:\n",
    "        S (float): Current stock price.\n",
    "        K (float): Option strike price.\n",
    "        T (float): Time to expiration in years.\n",
    "        r (float): Risk-free interest rate.\n",
    "        market_price (float): Market price of the option.\n",
    "\n",
    "    Returns:\n",
    "        float: Implied volatility as a decimal. If no solution found, returns 0.0.\n",
    "    \"\"\"\n",
    "    def objective(sigma):\n",
    "        return black_scholes_call(S, K, T, r, sigma) - market_price\n",
    "    \n",
    "    try:\n",
    "        return brentq(objective, 0.001, 2.0) # Search between 1% and 200% volatility\n",
    "    except ValueError:\n",
    "        return 0.0\n",
    "    \n",
    "def black_scholes_greeks(S, K, T, r, sigma, option_type='call'):\n",
    "    \"\"\"\n",
    "    Calculate the delta, gamma, theta, and vega of a European option using the Black-Scholes model.\n",
    "    \n",
    "    Args:\n",
    "        S (float): Current stock price.\n",
    "        K (float): Option strike price.\n",
    "        T (float): Time to expiration in years.\n",
    "        r (float): Risk-free interest rate.\n",
    "        sigma (float): Volatility of the underlying asset.\n",
    "        option_type (str): 'call' for call options, 'put' for put options.\n",
    "\n",
    "    Returns:\n",
    "        dict: A dictionary containing the Greeks: delta, gamma, theta, vega.\n",
    "    \"\"\"\n",
    "    \n",
    "    if sigma == 0:\n",
    "        return {\n",
    "            'delta': 1.0 if option_type == 'call' else -1.0,\n",
    "            'gamma': 0.0,\n",
    "            'theta': 0.0,\n",
    "            'vega': 0.0\n",
    "        }\n",
    "    \n",
    "    # Calculate d1 and d2\n",
    "    d1 = (np.log(S / K) + (r + 0.5 * sigma**2) * T) / (sigma * np.sqrt(T))\n",
    "    d2 = d1 - sigma * np.sqrt(T)\n",
    "    \n",
    "    # Calculate Greeks\n",
    "    if option_type == 'call':\n",
    "        delta = norm.cdf(d1)\n",
    "        theta = (-S * norm.pdf(d1) * sigma / (2 * np.sqrt(T)) - r * K * np.exp(-r * T) * norm.cdf(d2)) / 365\n",
    "    else:\n",
    "        delta = -norm.cdf(-d1)\n",
    "        theta = (-S * norm.pdf(d1) * sigma / (2 * np.sqrt(T)) + r * K * np.exp(-r * T) * norm.cdf(-d2)) / 365\n",
    "    \n",
    "    \n",
    "    gamma = norm.pdf(d1) / (S * sigma * np.sqrt(T))\n",
    "    vega = S * norm.pdf(d1) * np.sqrt(T) / 100  # Vega is per 1% change in volatility\n",
    "    \n",
    "    return {\n",
    "        'delta': delta,\n",
    "        'gamma': gamma,\n",
    "        'theta': theta,\n",
    "        'vega': vega\n",
    "    }\n"
   ]
  },
  {
   "cell_type": "code",
   "execution_count": 15,
   "metadata": {},
   "outputs": [],
   "source": [
    "df = pd.read_csv('../data/PNB_Indicators.csv') # 748 3059\n",
    "df['Date&Time'] = pd.to_datetime(df['Date&Time'])\n",
    "df.fillna(0, inplace=True)"
   ]
  },
  {
   "cell_type": "code",
   "execution_count": 16,
   "metadata": {},
   "outputs": [],
   "source": [
    "risk_free_rate = 0.06"
   ]
  },
  {
   "cell_type": "code",
   "execution_count": 17,
   "metadata": {},
   "outputs": [],
   "source": [
    "df['Implied_Volatility'] = 0.0\n",
    "df['Delta'] = 0.0\n",
    "df['Gamma'] = 0.0\n",
    "df['Theta'] = 0.0\n",
    "df['Vega'] = 0.0"
   ]
  },
  {
   "cell_type": "code",
   "execution_count": 18,
   "metadata": {},
   "outputs": [],
   "source": [
    "for i in range(748, 3059):\n",
    "    date = df['Date&Time'][i]\n",
    "    date_str = date.strftime('%d-%b-%Y')\n",
    "    \n",
    "    df_options = pd.read_csv('../data/CSV/' + date_str + '.csv')\n",
    "    df_options['FH_EXPIRY_DT'] = pd.to_datetime(df_options['FH_EXPIRY_DT'], format='%d-%b-%Y')\n",
    "\n",
    "    df_options['Time_to_Expiry'] = ((df_options['FH_EXPIRY_DT'] - date).dt.days + 1) / 365\n",
    "    \n",
    "    df_options['Implied_Volatility'] = df_options.apply(lambda x: implied_volatility(df['Close'][i], x['FH_STRIKE_PRICE'], x['Time_to_Expiry'], risk_free_rate, x['FH_CLOSING_PRICE']), axis=1)\n",
    "    df_options['Delta'] = df_options.apply(lambda x: black_scholes_greeks(df['Close'][i], x['FH_STRIKE_PRICE'], x['Time_to_Expiry'], risk_free_rate, x['Implied_Volatility'])['delta'], axis=1)\n",
    "    df_options['Gamma'] = df_options.apply(lambda x: black_scholes_greeks(df['Close'][i], x['FH_STRIKE_PRICE'], x['Time_to_Expiry'], risk_free_rate, x['Implied_Volatility'])['gamma'], axis=1)\n",
    "    df_options['Theta'] = df_options.apply(lambda x: black_scholes_greeks(df['Close'][i], x['FH_STRIKE_PRICE'], x['Time_to_Expiry'], risk_free_rate, x['Implied_Volatility'])['theta'], axis=1)\n",
    "    df_options['Vega'] = df_options.apply(lambda x: black_scholes_greeks(df['Close'][i], x['FH_STRIKE_PRICE'], x['Time_to_Expiry'], risk_free_rate, x['Implied_Volatility'])['vega'], axis=1)\n",
    "    \n",
    "    df.loc[i, 'Implied_Volatility'] = df_options['Implied_Volatility'].mean()\n",
    "    df.loc[i, 'Delta'] = df_options['Delta'].mean()\n",
    "    df.loc[i, 'Gamma'] = df_options['Gamma'].mean()\n",
    "    df.loc[i, 'Theta'] = df_options['Theta'].mean()\n",
    "    df.loc[i, 'Vega'] = df_options['Vega'].mean()\n",
    "    date_save = date.strftime('%d-%b-%Y')\n",
    "    df_options['FH_EXPIRY_DT'] = df_options['FH_EXPIRY_DT'].dt.strftime('%d-%b-%Y')\n",
    "    df_options.to_csv('../data/CSV/' + date_save + '.csv', index=False)"
   ]
  },
  {
   "cell_type": "code",
   "execution_count": 20,
   "metadata": {},
   "outputs": [],
   "source": [
    "df['Implied_Volatility'].replace(0, df['Implied_Volatility'].mean(), inplace=True)\n",
    "df['Delta'].replace(0, df['Delta'].mean(), inplace=True)\n",
    "df['Gamma'].replace(0, df['Gamma'].mean(), inplace=True)\n",
    "df['Theta'].replace(0, df['Theta'].mean(), inplace=True)\n",
    "df['Vega'].replace(0, df['Vega'].mean(), inplace=True)"
   ]
  },
  {
   "cell_type": "code",
   "execution_count": null,
   "metadata": {},
   "outputs": [],
   "source": [
    "df = df.drop_duplicates(subset='Date&Time', keep='first')"
   ]
  },
  {
   "cell_type": "code",
   "execution_count": 22,
   "metadata": {},
   "outputs": [],
   "source": [
    "df.to_csv('../data/PNB_Indicators.csv', index=False)"
   ]
  },
  {
   "cell_type": "markdown",
   "metadata": {},
   "source": [
    "## Combining option Data\n",
    "\n",
    "Reason For Following Process of processing option data is due tot he way of colleciton data i applied initially.\n",
    "Which now in the same way cannot be used for purpose of genrating observation space for the model."
   ]
  },
  {
   "cell_type": "code",
   "execution_count": 5,
   "metadata": {},
   "outputs": [],
   "source": [
    "df = pd.read_csv('../data/PNB_Indicators.csv')"
   ]
  },
  {
   "cell_type": "code",
   "execution_count": 6,
   "metadata": {},
   "outputs": [
    {
     "data": {
      "text/plain": [
       "Index(['Date&Time', 'Open', 'High', 'Low', 'Close', 'Volume', '52_Week_High',\n",
       "       '52_Week_Low', 'RSI', 'MACD', 'Signal', 'BB_Upper', 'BB_Lower',\n",
       "       'Volatility', '%K', '%D', 'OBV', 'APO', 'PPO', 'PPO_Signal', 'SMA',\n",
       "       'EMA', 'Implied_Volatility', 'Delta', 'Gamma', 'Theta', 'Vega',\n",
       "       'Strike Prices'],\n",
       "      dtype='object')"
      ]
     },
     "execution_count": 6,
     "metadata": {},
     "output_type": "execute_result"
    }
   ],
   "source": [
    "df.columns"
   ]
  },
  {
   "cell_type": "code",
   "execution_count": 7,
   "metadata": {},
   "outputs": [],
   "source": [
    "df['Strike Prices'] = df.apply(lambda x: [], axis=1)"
   ]
  },
  {
   "cell_type": "code",
   "execution_count": 8,
   "metadata": {},
   "outputs": [],
   "source": [
    "files = glob.glob('CSV/*.csv')\n",
    "files = [file[4:] for file in files]\n",
    "files = [file.split('.')[0] for file in files]\n",
    "files = [datetime.strptime(file, '%d-%b-%Y') for file in files]\n",
    "files.sort()\n",
    "files = [file.strftime('%d-%b-%Y') for file in files]"
   ]
  },
  {
   "cell_type": "code",
   "execution_count": 9,
   "metadata": {},
   "outputs": [],
   "source": [
    "path = \"../data/CSV/\""
   ]
  },
  {
   "cell_type": "code",
   "execution_count": 10,
   "metadata": {},
   "outputs": [],
   "source": [
    "avg = []\n",
    "# Iterate through each file\n",
    "for filename in files:\n",
    "    # Construct file path\n",
    "    full_path = f\"{path}{filename}.csv\"\n",
    "    \n",
    "    # Read the CSV file\n",
    "    df_temp = pd.read_csv(full_path)\n",
    "    \n",
    "    x_temp = datetime.strptime(filename, '%d-%b-%Y').strftime('%Y-%m-%d')\n",
    "    indices = df.index[df['Date&Time'] == x_temp].tolist()\n",
    "    \n",
    "    list_strike_prices = set(df_temp['FH_STRIKE_PRICE'])\n",
    "    avg.append(len(list_strike_prices))\n",
    "    \n",
    "    if indices:\n",
    "        df.at[indices[0], 'Strike Prices'] = list(list_strike_prices)"
   ]
  },
  {
   "cell_type": "code",
   "execution_count": 107,
   "metadata": {},
   "outputs": [],
   "source": [
    "df.to_csv('../data/PNB_Indicators.csv', index=False)"
   ]
  },
  {
   "cell_type": "code",
   "execution_count": 11,
   "metadata": {},
   "outputs": [],
   "source": [
    "df_options_data = pd.DataFrame()\n",
    "for file in files:\n",
    "    df_temp = pd.read_csv(f\"{path}{file}.csv\")\n",
    "    df_options_data = pd.concat([df_options_data, df_temp])"
   ]
  },
  {
   "cell_type": "code",
   "execution_count": 14,
   "metadata": {},
   "outputs": [],
   "source": [
    "df_options_data['Days_to_Expiry'] = (pd.to_datetime(df_options_data['FH_EXPIRY_DT'], format='%d-%b-%Y') - pd.to_datetime(df_options_data['FH_TIMESTAMP'], format='%d-%b-%Y')).dt.days + 1"
   ]
  },
  {
   "cell_type": "code",
   "execution_count": 16,
   "metadata": {},
   "outputs": [],
   "source": [
    "df_options_data.to_csv('../data/PNB_Options_Data.csv', index=False)"
   ]
  },
  {
   "cell_type": "code",
   "execution_count": null,
   "metadata": {},
   "outputs": [],
   "source": []
  }
 ],
 "metadata": {
  "kernelspec": {
   "display_name": "rl_t",
   "language": "python",
   "name": "python3"
  },
  "language_info": {
   "codemirror_mode": {
    "name": "ipython",
    "version": 3
   },
   "file_extension": ".py",
   "mimetype": "text/x-python",
   "name": "python",
   "nbconvert_exporter": "python",
   "pygments_lexer": "ipython3",
   "version": "3.9.19"
  }
 },
 "nbformat": 4,
 "nbformat_minor": 2
}
